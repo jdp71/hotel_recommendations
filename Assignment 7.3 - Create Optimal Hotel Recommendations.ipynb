{
 "cells": [
  {
   "cell_type": "markdown",
   "metadata": {},
   "source": [
    "# Expedia Hotel Recommendations"
   ]
  },
  {
   "cell_type": "markdown",
   "metadata": {},
   "source": [
    "**I am going to do this assignment in both Python and R.  I will use Python for the EDA and modeling and I will use R for the plots and graphics.**"
   ]
  },
  {
   "cell_type": "markdown",
   "metadata": {},
   "source": [
    "The first thing I need to do is load some libraries."
   ]
  },
  {
   "cell_type": "code",
   "execution_count": 1,
   "metadata": {},
   "outputs": [],
   "source": [
    "import pandas as pd"
   ]
  },
  {
   "cell_type": "markdown",
   "metadata": {},
   "source": [
    "Now I need to load my datasets.  It should be noted here that I originally loaded the entire `train.csv` dataset but that took about 15 minutes to load.  Since the point of this assignment is to get experience doing predictive analytics with four different algorithms, I am going to reduce the `train.csv` dataset to 1% of it's original size.  This should speed things along."
   ]
  },
  {
   "cell_type": "code",
   "execution_count": 2,
   "metadata": {},
   "outputs": [
    {
     "data": {
      "text/plain": [
       "(241179, 24)"
      ]
     },
     "execution_count": 2,
     "metadata": {},
     "output_type": "execute_result"
    }
   ],
   "source": [
    "train = pd.read_csv(\"train.csv\").dropna()\n",
    "destinations = pd.read_csv(\"destinations.csv\")\n",
    "train = train.sample(frac=0.01, random_state=99)\n",
    "train.shape"
   ]
  },
  {
   "cell_type": "markdown",
   "metadata": {},
   "source": [
    "# EDA"
   ]
  },
  {
   "cell_type": "markdown",
   "metadata": {},
   "source": [
    "Let's look at the data."
   ]
  },
  {
   "cell_type": "code",
   "execution_count": 3,
   "metadata": {},
   "outputs": [
    {
     "data": {
      "text/html": [
       "<div>\n",
       "<style scoped>\n",
       "    .dataframe tbody tr th:only-of-type {\n",
       "        vertical-align: middle;\n",
       "    }\n",
       "\n",
       "    .dataframe tbody tr th {\n",
       "        vertical-align: top;\n",
       "    }\n",
       "\n",
       "    .dataframe thead th {\n",
       "        text-align: right;\n",
       "    }\n",
       "</style>\n",
       "<table border=\"1\" class=\"dataframe\">\n",
       "  <thead>\n",
       "    <tr style=\"text-align: right;\">\n",
       "      <th></th>\n",
       "      <th>date_time</th>\n",
       "      <th>site_name</th>\n",
       "      <th>posa_continent</th>\n",
       "      <th>user_location_country</th>\n",
       "      <th>user_location_region</th>\n",
       "      <th>user_location_city</th>\n",
       "      <th>orig_destination_distance</th>\n",
       "      <th>user_id</th>\n",
       "      <th>is_mobile</th>\n",
       "      <th>is_package</th>\n",
       "      <th>...</th>\n",
       "      <th>srch_children_cnt</th>\n",
       "      <th>srch_rm_cnt</th>\n",
       "      <th>srch_destination_id</th>\n",
       "      <th>srch_destination_type_id</th>\n",
       "      <th>is_booking</th>\n",
       "      <th>cnt</th>\n",
       "      <th>hotel_continent</th>\n",
       "      <th>hotel_country</th>\n",
       "      <th>hotel_market</th>\n",
       "      <th>hotel_cluster</th>\n",
       "    </tr>\n",
       "  </thead>\n",
       "  <tbody>\n",
       "    <tr>\n",
       "      <th>32352134</th>\n",
       "      <td>2014-05-22 11:40:07</td>\n",
       "      <td>2</td>\n",
       "      <td>3</td>\n",
       "      <td>66</td>\n",
       "      <td>174</td>\n",
       "      <td>24103</td>\n",
       "      <td>2323.5232</td>\n",
       "      <td>802499</td>\n",
       "      <td>0</td>\n",
       "      <td>1</td>\n",
       "      <td>...</td>\n",
       "      <td>0</td>\n",
       "      <td>1</td>\n",
       "      <td>1442</td>\n",
       "      <td>3</td>\n",
       "      <td>0</td>\n",
       "      <td>1</td>\n",
       "      <td>4</td>\n",
       "      <td>125</td>\n",
       "      <td>177</td>\n",
       "      <td>44</td>\n",
       "    </tr>\n",
       "    <tr>\n",
       "      <th>29796021</th>\n",
       "      <td>2013-06-29 12:24:37</td>\n",
       "      <td>2</td>\n",
       "      <td>3</td>\n",
       "      <td>66</td>\n",
       "      <td>311</td>\n",
       "      <td>25538</td>\n",
       "      <td>2288.6121</td>\n",
       "      <td>85229</td>\n",
       "      <td>0</td>\n",
       "      <td>0</td>\n",
       "      <td>...</td>\n",
       "      <td>1</td>\n",
       "      <td>1</td>\n",
       "      <td>8272</td>\n",
       "      <td>1</td>\n",
       "      <td>0</td>\n",
       "      <td>1</td>\n",
       "      <td>2</td>\n",
       "      <td>50</td>\n",
       "      <td>659</td>\n",
       "      <td>59</td>\n",
       "    </tr>\n",
       "    <tr>\n",
       "      <th>15185156</th>\n",
       "      <td>2014-10-30 13:58:32</td>\n",
       "      <td>2</td>\n",
       "      <td>3</td>\n",
       "      <td>66</td>\n",
       "      <td>294</td>\n",
       "      <td>40046</td>\n",
       "      <td>587.6970</td>\n",
       "      <td>755217</td>\n",
       "      <td>0</td>\n",
       "      <td>1</td>\n",
       "      <td>...</td>\n",
       "      <td>0</td>\n",
       "      <td>1</td>\n",
       "      <td>11321</td>\n",
       "      <td>1</td>\n",
       "      <td>0</td>\n",
       "      <td>1</td>\n",
       "      <td>2</td>\n",
       "      <td>50</td>\n",
       "      <td>642</td>\n",
       "      <td>22</td>\n",
       "    </tr>\n",
       "    <tr>\n",
       "      <th>3301948</th>\n",
       "      <td>2014-08-22 20:14:34</td>\n",
       "      <td>2</td>\n",
       "      <td>3</td>\n",
       "      <td>66</td>\n",
       "      <td>332</td>\n",
       "      <td>55121</td>\n",
       "      <td>2234.4394</td>\n",
       "      <td>160733</td>\n",
       "      <td>0</td>\n",
       "      <td>1</td>\n",
       "      <td>...</td>\n",
       "      <td>0</td>\n",
       "      <td>1</td>\n",
       "      <td>1152</td>\n",
       "      <td>1</td>\n",
       "      <td>1</td>\n",
       "      <td>1</td>\n",
       "      <td>4</td>\n",
       "      <td>47</td>\n",
       "      <td>1502</td>\n",
       "      <td>65</td>\n",
       "    </tr>\n",
       "    <tr>\n",
       "      <th>25429119</th>\n",
       "      <td>2014-03-25 18:47:43</td>\n",
       "      <td>2</td>\n",
       "      <td>3</td>\n",
       "      <td>66</td>\n",
       "      <td>314</td>\n",
       "      <td>47869</td>\n",
       "      <td>839.0087</td>\n",
       "      <td>1078493</td>\n",
       "      <td>0</td>\n",
       "      <td>0</td>\n",
       "      <td>...</td>\n",
       "      <td>0</td>\n",
       "      <td>1</td>\n",
       "      <td>8284</td>\n",
       "      <td>1</td>\n",
       "      <td>0</td>\n",
       "      <td>4</td>\n",
       "      <td>2</td>\n",
       "      <td>50</td>\n",
       "      <td>685</td>\n",
       "      <td>6</td>\n",
       "    </tr>\n",
       "  </tbody>\n",
       "</table>\n",
       "<p>5 rows × 24 columns</p>\n",
       "</div>"
      ],
      "text/plain": [
       "                    date_time  site_name  posa_continent  \\\n",
       "32352134  2014-05-22 11:40:07          2               3   \n",
       "29796021  2013-06-29 12:24:37          2               3   \n",
       "15185156  2014-10-30 13:58:32          2               3   \n",
       "3301948   2014-08-22 20:14:34          2               3   \n",
       "25429119  2014-03-25 18:47:43          2               3   \n",
       "\n",
       "          user_location_country  user_location_region  user_location_city  \\\n",
       "32352134                     66                   174               24103   \n",
       "29796021                     66                   311               25538   \n",
       "15185156                     66                   294               40046   \n",
       "3301948                      66                   332               55121   \n",
       "25429119                     66                   314               47869   \n",
       "\n",
       "          orig_destination_distance  user_id  is_mobile  is_package  ...  \\\n",
       "32352134                  2323.5232   802499          0           1  ...   \n",
       "29796021                  2288.6121    85229          0           0  ...   \n",
       "15185156                   587.6970   755217          0           1  ...   \n",
       "3301948                   2234.4394   160733          0           1  ...   \n",
       "25429119                   839.0087  1078493          0           0  ...   \n",
       "\n",
       "          srch_children_cnt srch_rm_cnt srch_destination_id  \\\n",
       "32352134                  0           1                1442   \n",
       "29796021                  1           1                8272   \n",
       "15185156                  0           1               11321   \n",
       "3301948                   0           1                1152   \n",
       "25429119                  0           1                8284   \n",
       "\n",
       "          srch_destination_type_id  is_booking  cnt  hotel_continent  \\\n",
       "32352134                         3           0    1                4   \n",
       "29796021                         1           0    1                2   \n",
       "15185156                         1           0    1                2   \n",
       "3301948                          1           1    1                4   \n",
       "25429119                         1           0    4                2   \n",
       "\n",
       "          hotel_country  hotel_market  hotel_cluster  \n",
       "32352134            125           177             44  \n",
       "29796021             50           659             59  \n",
       "15185156             50           642             22  \n",
       "3301948              47          1502             65  \n",
       "25429119             50           685              6  \n",
       "\n",
       "[5 rows x 24 columns]"
      ]
     },
     "execution_count": 3,
     "metadata": {},
     "output_type": "execute_result"
    }
   ],
   "source": [
    "train.head(5)"
   ]
  },
  {
   "cell_type": "code",
   "execution_count": 4,
   "metadata": {},
   "outputs": [
    {
     "name": "stdout",
     "output_type": "stream",
     "text": [
      "<class 'pandas.core.frame.DataFrame'>\n",
      "Int64Index: 241179 entries, 32352134 to 7170402\n",
      "Data columns (total 24 columns):\n",
      "date_time                    241179 non-null object\n",
      "site_name                    241179 non-null int64\n",
      "posa_continent               241179 non-null int64\n",
      "user_location_country        241179 non-null int64\n",
      "user_location_region         241179 non-null int64\n",
      "user_location_city           241179 non-null int64\n",
      "orig_destination_distance    241179 non-null float64\n",
      "user_id                      241179 non-null int64\n",
      "is_mobile                    241179 non-null int64\n",
      "is_package                   241179 non-null int64\n",
      "channel                      241179 non-null int64\n",
      "srch_ci                      241179 non-null object\n",
      "srch_co                      241179 non-null object\n",
      "srch_adults_cnt              241179 non-null int64\n",
      "srch_children_cnt            241179 non-null int64\n",
      "srch_rm_cnt                  241179 non-null int64\n",
      "srch_destination_id          241179 non-null int64\n",
      "srch_destination_type_id     241179 non-null int64\n",
      "is_booking                   241179 non-null int64\n",
      "cnt                          241179 non-null int64\n",
      "hotel_continent              241179 non-null int64\n",
      "hotel_country                241179 non-null int64\n",
      "hotel_market                 241179 non-null int64\n",
      "hotel_cluster                241179 non-null int64\n",
      "dtypes: float64(1), int64(20), object(3)\n",
      "memory usage: 46.0+ MB\n"
     ]
    }
   ],
   "source": [
    "train.info()"
   ]
  },
  {
   "cell_type": "markdown",
   "metadata": {},
   "source": [
    "It looks like the date_time data needs to be recategorized and separated out into individual months and years.  Let's take care of that now."
   ]
  },
  {
   "cell_type": "code",
   "execution_count": 5,
   "metadata": {},
   "outputs": [
    {
     "name": "stdout",
     "output_type": "stream",
     "text": [
      "<class 'pandas.core.frame.DataFrame'>\n",
      "Int64Index: 241179 entries, 32352134 to 7170402\n",
      "Data columns (total 26 columns):\n",
      "date_time                    241179 non-null datetime64[ns]\n",
      "site_name                    241179 non-null int64\n",
      "posa_continent               241179 non-null int64\n",
      "user_location_country        241179 non-null int64\n",
      "user_location_region         241179 non-null int64\n",
      "user_location_city           241179 non-null int64\n",
      "orig_destination_distance    241179 non-null float64\n",
      "user_id                      241179 non-null int64\n",
      "is_mobile                    241179 non-null int64\n",
      "is_package                   241179 non-null int64\n",
      "channel                      241179 non-null int64\n",
      "srch_ci                      241179 non-null object\n",
      "srch_co                      241179 non-null object\n",
      "srch_adults_cnt              241179 non-null int64\n",
      "srch_children_cnt            241179 non-null int64\n",
      "srch_rm_cnt                  241179 non-null int64\n",
      "srch_destination_id          241179 non-null int64\n",
      "srch_destination_type_id     241179 non-null int64\n",
      "is_booking                   241179 non-null int64\n",
      "cnt                          241179 non-null int64\n",
      "hotel_continent              241179 non-null int64\n",
      "hotel_country                241179 non-null int64\n",
      "hotel_market                 241179 non-null int64\n",
      "hotel_cluster                241179 non-null int64\n",
      "year                         241179 non-null int64\n",
      "month                        241179 non-null int64\n",
      "dtypes: datetime64[ns](1), float64(1), int64(22), object(2)\n",
      "memory usage: 49.7+ MB\n"
     ]
    }
   ],
   "source": [
    "train['date_time'] = pd.to_datetime(train['date_time'])\n",
    "train['year'] = train['date_time'].dt.year\n",
    "train['month'] = train['date_time'].dt.month\n",
    "train.info()"
   ]
  },
  {
   "cell_type": "markdown",
   "metadata": {},
   "source": [
    "I am also going to drop the check in (`srch_ci`) and check out (`srch_co`) dates since these are categorized as objects and will not be used in the predictions."
   ]
  },
  {
   "cell_type": "code",
   "execution_count": 6,
   "metadata": {},
   "outputs": [
    {
     "name": "stdout",
     "output_type": "stream",
     "text": [
      "<class 'pandas.core.frame.DataFrame'>\n",
      "Int64Index: 241179 entries, 32352134 to 7170402\n",
      "Data columns (total 23 columns):\n",
      "site_name                    241179 non-null int64\n",
      "posa_continent               241179 non-null int64\n",
      "user_location_country        241179 non-null int64\n",
      "user_location_region         241179 non-null int64\n",
      "user_location_city           241179 non-null int64\n",
      "orig_destination_distance    241179 non-null float64\n",
      "user_id                      241179 non-null int64\n",
      "is_mobile                    241179 non-null int64\n",
      "is_package                   241179 non-null int64\n",
      "channel                      241179 non-null int64\n",
      "srch_adults_cnt              241179 non-null int64\n",
      "srch_children_cnt            241179 non-null int64\n",
      "srch_rm_cnt                  241179 non-null int64\n",
      "srch_destination_id          241179 non-null int64\n",
      "srch_destination_type_id     241179 non-null int64\n",
      "is_booking                   241179 non-null int64\n",
      "cnt                          241179 non-null int64\n",
      "hotel_continent              241179 non-null int64\n",
      "hotel_country                241179 non-null int64\n",
      "hotel_market                 241179 non-null int64\n",
      "hotel_cluster                241179 non-null int64\n",
      "year                         241179 non-null int64\n",
      "month                        241179 non-null int64\n",
      "dtypes: float64(1), int64(22)\n",
      "memory usage: 44.2 MB\n"
     ]
    }
   ],
   "source": [
    "train = train.drop([\"srch_ci\", \"srch_co\", \"date_time\"], axis = 1)\n",
    "train.info()"
   ]
  },
  {
   "cell_type": "markdown",
   "metadata": {},
   "source": [
    "# Graph analysis"
   ]
  },
  {
   "cell_type": "markdown",
   "metadata": {},
   "source": [
    "Since the goal of this assignment is to identify the hotel clusters that customers are likely to book, we need to see what the cluster distribution looks like.  \n",
    "\n",
    "Because I am using R withing my Python notebook, I need to load some additional libraries."
   ]
  },
  {
   "cell_type": "code",
   "execution_count": 7,
   "metadata": {},
   "outputs": [
    {
     "data": {
      "text/plain": [
       "array(['reticulate', 'scales', 'reshape2', 'ggplot2', 'tools', 'stats',\n",
       "       'graphics', 'grDevices', 'utils', 'datasets', 'methods', 'base'],\n",
       "      dtype='<U10')"
      ]
     },
     "execution_count": 7,
     "metadata": {},
     "output_type": "execute_result"
    }
   ],
   "source": [
    "from rpy2.robjects.packages import importr\n",
    "import rpy2.robjects as robjects\n",
    "import rpy2.robjects.packages as rpackages\n",
    "from rpy2.robjects.vectors import StrVector\n",
    "utils = importr('utils')\n",
    "utils.install_packages('ggplot2')\n",
    "utils.install_packages('ggthemes')\n",
    "utils.install_packages('gridExtra')\n",
    "utils.install_packages('reshape2')\n",
    "utils.install_packages('scales')\n",
    "utils.install_packages('reticulate')\n",
    "\n",
    "%reload_ext rpy2.ipython\n",
    "%R library(ggplot2)\n",
    "%R library(reshape2)\n",
    "%R library(scales)\n",
    "%R library(reticulate)"
   ]
  },
  {
   "cell_type": "code",
   "execution_count": 8,
   "metadata": {},
   "outputs": [
    {
     "data": {
      "image/png": "[encoded data removed]"
     },
     "metadata": {},
     "output_type": "display_data"
    }
   ],
   "source": [
    "%%R -w 1000 -h 600 -u px\n",
    "library(ggplot2)\n",
    "library(ggthemes)\n",
    "ggplot(train, aes(x=hotel_cluster)) + geom_histogram() + labs(x = \"Hotel Clusters\", y = \"Count\") + theme_classic() + ggtitle(\"Histogram of Hotel Clusters\") + \n",
    "theme(plot.title = element_text(hjust = 0.5, size=18),\n",
    "      axis.text=element_text(size=12),\n",
    "     axis.title.x=element_text(size=14),\n",
    "     axis.title.y=element_text(size=14))"
   ]
  },
  {
   "cell_type": "markdown",
   "metadata": {},
   "source": [
    "As we can see, the distribution, while somewhat skewed, is fairly well distributed among the 100 different clusters.  \n",
    "\n",
    "Next, let's look at the correlation between the variables to see what kinds of dependencies we might have."
   ]
  },
  {
   "cell_type": "code",
   "execution_count": 9,
   "metadata": {},
   "outputs": [
    {
     "name": "stderr",
     "output_type": "stream",
     "text": [
      "C:\\Users\\jeffery.peterson.tm\\AppData\\Local\\Continuum\\anaconda3\\lib\\site-packages\\rpy2\\robjects\\pandas2ri.py:191: FutureWarning: from_items is deprecated. Please use DataFrame.from_dict(dict(items), ...) instead. DataFrame.from_dict(OrderedDict(items)) may be used to preserve the key order.\n",
      "  res = PandasDataFrame.from_items(items)\n"
     ]
    }
   ],
   "source": [
    "%%R -i train\n",
    "\n",
    "library(reshape2)\n",
    "library(scales)\n",
    "trainCor <- cor(train, use = \"everything\")\n",
    "trainMelt <- melt(trainCor, varnames=c(\"x\", \"y\"), value.name = \"Correlation\")\n",
    "trainMelt <- trainMelt[order(trainMelt$Correlation), ]"
   ]
  },
  {
   "cell_type": "code",
   "execution_count": 10,
   "metadata": {},
   "outputs": [
    {
     "data": {
      "image/png": "[encoded data removed]"
     },
     "metadata": {},
     "output_type": "display_data"
    }
   ],
   "source": [
    "%%R -w 1000 -h 600 -u px\n",
    "ggplot(trainMelt, aes(x=x, y=y)) + geom_tile(aes(fill=Correlation)) + scale_fill_gradient2(low = muted(\"red\"), mid = \"white\", high = \"steelblue\", guide = guide_colorbar(ticks = FALSE, barheight = 10), limits=c(-1, 1)) + theme_minimal() + theme(axis.text.x = element_text(angle = 90)) + theme(axis.title.x = element_blank(), axis.title.y = element_blank())"
   ]
  },
  {
   "cell_type": "markdown",
   "metadata": {},
   "source": [
    "It doesn't appear that we have any strong linear dependencies between variables.  Just as a secondary confirmation, we can generate a correlation table."
   ]
  },
  {
   "cell_type": "code",
   "execution_count": 11,
   "metadata": {},
   "outputs": [
    {
     "data": {
      "text/plain": [
       "site_name                   -0.027497\n",
       "posa_continent               0.012180\n",
       "user_location_country       -0.020239\n",
       "user_location_region         0.006927\n",
       "user_location_city           0.001241\n",
       "orig_destination_distance    0.006084\n",
       "user_id                      0.003891\n",
       "is_mobile                    0.008788\n",
       "is_package                   0.047598\n",
       "channel                     -0.001386\n",
       "srch_adults_cnt              0.012407\n",
       "srch_children_cnt            0.014901\n",
       "srch_rm_cnt                 -0.005570\n",
       "srch_destination_id         -0.016736\n",
       "srch_destination_type_id    -0.036120\n",
       "is_booking                  -0.022898\n",
       "cnt                          0.000378\n",
       "hotel_continent              0.000422\n",
       "hotel_country               -0.023837\n",
       "hotel_market                 0.022149\n",
       "hotel_cluster                1.000000\n",
       "year                        -0.000435\n",
       "month                       -0.002142\n",
       "Name: hotel_cluster, dtype: float64"
      ]
     },
     "execution_count": 11,
     "metadata": {},
     "output_type": "execute_result"
    }
   ],
   "source": [
    "train.corr()[\"hotel_cluster\"]"
   ]
  },
  {
   "cell_type": "markdown",
   "metadata": {},
   "source": [
    "As suspected, our correlation table confirms what we saw in the correlation matrix.  We do not have anything that has a strong positive correlation to the hotel_cluster variable.  Therefore, linear models might not be the best option for these predictions."
   ]
  },
  {
   "cell_type": "markdown",
   "metadata": {},
   "source": [
    "# Merging of datasets"
   ]
  },
  {
   "cell_type": "markdown",
   "metadata": {},
   "source": [
    "Before we can merge our train and destination datasets, we need to consider what variables are going to be critical when it comes to predicting a hotel cluster.  Based on the Kaggle descriptions of the variables, the following seem to be the most important:  \n",
    "**srch_destination_id**:  this is the ID of the destination where the hotel search was performed.  \n",
    "**hotel_country**:  this is the country where the hotel is located.  \n",
    "**hotel_market**:  this is the market area where the hotel is located.  \n",
    "**hotel_cluster**:  this is the ID of the hotel cluster.  **This is what we are going to predict**  \n",
    "**is_booking**:  this is a binary choice of 1 if a hotel was booked, or 0 if it was just clicked on. \n",
    "\n",
    "Since we are only interested in hotels that were actually booked, we can eliminate the is_booking==0 values from our dataset."
   ]
  },
  {
   "cell_type": "code",
   "execution_count": 12,
   "metadata": {},
   "outputs": [],
   "source": [
    "train_booked = train.loc[train[\"is_booking\"] == 1]"
   ]
  },
  {
   "cell_type": "markdown",
   "metadata": {},
   "source": [
    "Next, we need to group our dataset according to the variables we defined as critical above.  This will tell us how many clusters were booked per srch_destination_id, hotel_country, hotel_market."
   ]
  },
  {
   "cell_type": "code",
   "execution_count": 13,
   "metadata": {},
   "outputs": [
    {
     "data": {
      "text/html": [
       "<div>\n",
       "<style scoped>\n",
       "    .dataframe tbody tr th:only-of-type {\n",
       "        vertical-align: middle;\n",
       "    }\n",
       "\n",
       "    .dataframe tbody tr th {\n",
       "        vertical-align: top;\n",
       "    }\n",
       "\n",
       "    .dataframe thead th {\n",
       "        text-align: right;\n",
       "    }\n",
       "</style>\n",
       "<table border=\"1\" class=\"dataframe\">\n",
       "  <thead>\n",
       "    <tr style=\"text-align: right;\">\n",
       "      <th></th>\n",
       "      <th></th>\n",
       "      <th></th>\n",
       "      <th></th>\n",
       "      <th>sum</th>\n",
       "      <th>count</th>\n",
       "    </tr>\n",
       "    <tr>\n",
       "      <th>srch_destination_id</th>\n",
       "      <th>hotel_country</th>\n",
       "      <th>hotel_market</th>\n",
       "      <th>hotel_cluster</th>\n",
       "      <th></th>\n",
       "      <th></th>\n",
       "    </tr>\n",
       "  </thead>\n",
       "  <tbody>\n",
       "    <tr>\n",
       "      <th rowspan=\"5\" valign=\"top\">4</th>\n",
       "      <th rowspan=\"5\" valign=\"top\">7</th>\n",
       "      <th rowspan=\"5\" valign=\"top\">246</th>\n",
       "      <th>22</th>\n",
       "      <td>0</td>\n",
       "      <td>1</td>\n",
       "    </tr>\n",
       "    <tr>\n",
       "      <th>29</th>\n",
       "      <td>0</td>\n",
       "      <td>1</td>\n",
       "    </tr>\n",
       "    <tr>\n",
       "      <th>30</th>\n",
       "      <td>0</td>\n",
       "      <td>1</td>\n",
       "    </tr>\n",
       "    <tr>\n",
       "      <th>32</th>\n",
       "      <td>1</td>\n",
       "      <td>2</td>\n",
       "    </tr>\n",
       "    <tr>\n",
       "      <th>43</th>\n",
       "      <td>0</td>\n",
       "      <td>1</td>\n",
       "    </tr>\n",
       "  </tbody>\n",
       "</table>\n",
       "</div>"
      ],
      "text/plain": [
       "                                                              sum  count\n",
       "srch_destination_id hotel_country hotel_market hotel_cluster            \n",
       "4                   7             246          22               0      1\n",
       "                                               29               0      1\n",
       "                                               30               0      1\n",
       "                                               32               1      2\n",
       "                                               43               0      1"
      ]
     },
     "execution_count": 13,
     "metadata": {},
     "output_type": "execute_result"
    }
   ],
   "source": [
    "train_totals = [train.groupby(['srch_destination_id','hotel_country','hotel_market','hotel_cluster'])['is_booking'].agg(['sum','count'])]\n",
    "train_summary = pd.concat(train_totals).groupby(level=[0,1,2,3]).sum()\n",
    "train_summary.dropna(inplace=True)\n",
    "train_summary.head()"
   ]
  },
  {
   "cell_type": "code",
   "execution_count": 14,
   "metadata": {},
   "outputs": [
    {
     "data": {
      "text/html": [
       "<div>\n",
       "<style scoped>\n",
       "    .dataframe tbody tr th:only-of-type {\n",
       "        vertical-align: middle;\n",
       "    }\n",
       "\n",
       "    .dataframe tbody tr th {\n",
       "        vertical-align: top;\n",
       "    }\n",
       "\n",
       "    .dataframe thead th {\n",
       "        text-align: right;\n",
       "    }\n",
       "</style>\n",
       "<table border=\"1\" class=\"dataframe\">\n",
       "  <thead>\n",
       "    <tr style=\"text-align: right;\">\n",
       "      <th></th>\n",
       "      <th>srch_destination_id</th>\n",
       "      <th>hotel_country</th>\n",
       "      <th>hotel_market</th>\n",
       "      <th>hotel_cluster</th>\n",
       "      <th>sum</th>\n",
       "      <th>count</th>\n",
       "      <th>sum_and_count</th>\n",
       "    </tr>\n",
       "  </thead>\n",
       "  <tbody>\n",
       "    <tr>\n",
       "      <th>0</th>\n",
       "      <td>4</td>\n",
       "      <td>7</td>\n",
       "      <td>246</td>\n",
       "      <td>22</td>\n",
       "      <td>0.0</td>\n",
       "      <td>0.125</td>\n",
       "      <td>0.073171</td>\n",
       "    </tr>\n",
       "    <tr>\n",
       "      <th>1</th>\n",
       "      <td>4</td>\n",
       "      <td>7</td>\n",
       "      <td>246</td>\n",
       "      <td>29</td>\n",
       "      <td>0.0</td>\n",
       "      <td>0.125</td>\n",
       "      <td>0.073171</td>\n",
       "    </tr>\n",
       "    <tr>\n",
       "      <th>2</th>\n",
       "      <td>4</td>\n",
       "      <td>7</td>\n",
       "      <td>246</td>\n",
       "      <td>30</td>\n",
       "      <td>0.0</td>\n",
       "      <td>0.125</td>\n",
       "      <td>0.073171</td>\n",
       "    </tr>\n",
       "    <tr>\n",
       "      <th>3</th>\n",
       "      <td>4</td>\n",
       "      <td>7</td>\n",
       "      <td>246</td>\n",
       "      <td>32</td>\n",
       "      <td>1.0</td>\n",
       "      <td>0.250</td>\n",
       "      <td>0.560976</td>\n",
       "    </tr>\n",
       "    <tr>\n",
       "      <th>4</th>\n",
       "      <td>4</td>\n",
       "      <td>7</td>\n",
       "      <td>246</td>\n",
       "      <td>43</td>\n",
       "      <td>0.0</td>\n",
       "      <td>0.125</td>\n",
       "      <td>0.073171</td>\n",
       "    </tr>\n",
       "  </tbody>\n",
       "</table>\n",
       "</div>"
      ],
      "text/plain": [
       "   srch_destination_id  hotel_country  hotel_market  hotel_cluster  sum  \\\n",
       "0                    4              7           246             22  0.0   \n",
       "1                    4              7           246             29  0.0   \n",
       "2                    4              7           246             30  0.0   \n",
       "3                    4              7           246             32  1.0   \n",
       "4                    4              7           246             43  0.0   \n",
       "\n",
       "   count  sum_and_count  \n",
       "0  0.125       0.073171  \n",
       "1  0.125       0.073171  \n",
       "2  0.125       0.073171  \n",
       "3  0.250       0.560976  \n",
       "4  0.125       0.073171  "
      ]
     },
     "execution_count": 14,
     "metadata": {},
     "output_type": "execute_result"
    }
   ],
   "source": [
    "train_summary['sum_and_count'] = 0.85*train_summary['sum'] + 0.15*train_summary['count']\n",
    "train_summary = train_summary.groupby(level=[0,1,2]).apply(lambda x: x.astype(float)/x.sum())\n",
    "train_summary.reset_index(inplace=True)\n",
    "train_summary.head()"
   ]
  },
  {
   "cell_type": "markdown",
   "metadata": {},
   "source": [
    "Now we can pivot our table so that it is in the proper format to merge with the `destination.csv` data."
   ]
  },
  {
   "cell_type": "code",
   "execution_count": 15,
   "metadata": {},
   "outputs": [
    {
     "data": {
      "text/html": [
       "<div>\n",
       "<style scoped>\n",
       "    .dataframe tbody tr th:only-of-type {\n",
       "        vertical-align: middle;\n",
       "    }\n",
       "\n",
       "    .dataframe tbody tr th {\n",
       "        vertical-align: top;\n",
       "    }\n",
       "\n",
       "    .dataframe thead th {\n",
       "        text-align: right;\n",
       "    }\n",
       "</style>\n",
       "<table border=\"1\" class=\"dataframe\">\n",
       "  <thead>\n",
       "    <tr style=\"text-align: right;\">\n",
       "      <th>hotel_cluster</th>\n",
       "      <th>srch_destination_id</th>\n",
       "      <th>hotel_country</th>\n",
       "      <th>hotel_market</th>\n",
       "      <th>0</th>\n",
       "      <th>1</th>\n",
       "      <th>2</th>\n",
       "      <th>3</th>\n",
       "      <th>4</th>\n",
       "      <th>5</th>\n",
       "      <th>6</th>\n",
       "      <th>...</th>\n",
       "      <th>90</th>\n",
       "      <th>91</th>\n",
       "      <th>92</th>\n",
       "      <th>93</th>\n",
       "      <th>94</th>\n",
       "      <th>95</th>\n",
       "      <th>96</th>\n",
       "      <th>97</th>\n",
       "      <th>98</th>\n",
       "      <th>99</th>\n",
       "    </tr>\n",
       "  </thead>\n",
       "  <tbody>\n",
       "    <tr>\n",
       "      <th>0</th>\n",
       "      <td>4</td>\n",
       "      <td>7</td>\n",
       "      <td>246</td>\n",
       "      <td>NaN</td>\n",
       "      <td>NaN</td>\n",
       "      <td>NaN</td>\n",
       "      <td>NaN</td>\n",
       "      <td>NaN</td>\n",
       "      <td>NaN</td>\n",
       "      <td>NaN</td>\n",
       "      <td>...</td>\n",
       "      <td>NaN</td>\n",
       "      <td>NaN</td>\n",
       "      <td>NaN</td>\n",
       "      <td>NaN</td>\n",
       "      <td>NaN</td>\n",
       "      <td>NaN</td>\n",
       "      <td>NaN</td>\n",
       "      <td>NaN</td>\n",
       "      <td>NaN</td>\n",
       "      <td>NaN</td>\n",
       "    </tr>\n",
       "    <tr>\n",
       "      <th>1</th>\n",
       "      <td>8</td>\n",
       "      <td>50</td>\n",
       "      <td>416</td>\n",
       "      <td>NaN</td>\n",
       "      <td>NaN</td>\n",
       "      <td>NaN</td>\n",
       "      <td>NaN</td>\n",
       "      <td>NaN</td>\n",
       "      <td>NaN</td>\n",
       "      <td>NaN</td>\n",
       "      <td>...</td>\n",
       "      <td>NaN</td>\n",
       "      <td>0.025210</td>\n",
       "      <td>NaN</td>\n",
       "      <td>NaN</td>\n",
       "      <td>NaN</td>\n",
       "      <td>NaN</td>\n",
       "      <td>NaN</td>\n",
       "      <td>NaN</td>\n",
       "      <td>NaN</td>\n",
       "      <td>NaN</td>\n",
       "    </tr>\n",
       "    <tr>\n",
       "      <th>2</th>\n",
       "      <td>11</td>\n",
       "      <td>50</td>\n",
       "      <td>824</td>\n",
       "      <td>NaN</td>\n",
       "      <td>NaN</td>\n",
       "      <td>NaN</td>\n",
       "      <td>NaN</td>\n",
       "      <td>NaN</td>\n",
       "      <td>NaN</td>\n",
       "      <td>NaN</td>\n",
       "      <td>...</td>\n",
       "      <td>NaN</td>\n",
       "      <td>NaN</td>\n",
       "      <td>NaN</td>\n",
       "      <td>NaN</td>\n",
       "      <td>NaN</td>\n",
       "      <td>NaN</td>\n",
       "      <td>NaN</td>\n",
       "      <td>NaN</td>\n",
       "      <td>NaN</td>\n",
       "      <td>NaN</td>\n",
       "    </tr>\n",
       "    <tr>\n",
       "      <th>3</th>\n",
       "      <td>14</td>\n",
       "      <td>27</td>\n",
       "      <td>1434</td>\n",
       "      <td>NaN</td>\n",
       "      <td>NaN</td>\n",
       "      <td>NaN</td>\n",
       "      <td>NaN</td>\n",
       "      <td>NaN</td>\n",
       "      <td>NaN</td>\n",
       "      <td>NaN</td>\n",
       "      <td>...</td>\n",
       "      <td>NaN</td>\n",
       "      <td>NaN</td>\n",
       "      <td>NaN</td>\n",
       "      <td>NaN</td>\n",
       "      <td>NaN</td>\n",
       "      <td>NaN</td>\n",
       "      <td>NaN</td>\n",
       "      <td>NaN</td>\n",
       "      <td>NaN</td>\n",
       "      <td>NaN</td>\n",
       "    </tr>\n",
       "    <tr>\n",
       "      <th>4</th>\n",
       "      <td>16</td>\n",
       "      <td>50</td>\n",
       "      <td>419</td>\n",
       "      <td>NaN</td>\n",
       "      <td>NaN</td>\n",
       "      <td>NaN</td>\n",
       "      <td>NaN</td>\n",
       "      <td>NaN</td>\n",
       "      <td>NaN</td>\n",
       "      <td>NaN</td>\n",
       "      <td>...</td>\n",
       "      <td>NaN</td>\n",
       "      <td>0.344828</td>\n",
       "      <td>NaN</td>\n",
       "      <td>NaN</td>\n",
       "      <td>NaN</td>\n",
       "      <td>NaN</td>\n",
       "      <td>NaN</td>\n",
       "      <td>NaN</td>\n",
       "      <td>NaN</td>\n",
       "      <td>NaN</td>\n",
       "    </tr>\n",
       "  </tbody>\n",
       "</table>\n",
       "<p>5 rows × 103 columns</p>\n",
       "</div>"
      ],
      "text/plain": [
       "hotel_cluster  srch_destination_id  hotel_country  hotel_market   0   1   2  \\\n",
       "0                                4              7           246 NaN NaN NaN   \n",
       "1                                8             50           416 NaN NaN NaN   \n",
       "2                               11             50           824 NaN NaN NaN   \n",
       "3                               14             27          1434 NaN NaN NaN   \n",
       "4                               16             50           419 NaN NaN NaN   \n",
       "\n",
       "hotel_cluster   3   4   5   6  ...  90        91  92  93  94  95  96  97  98  \\\n",
       "0             NaN NaN NaN NaN  ... NaN       NaN NaN NaN NaN NaN NaN NaN NaN   \n",
       "1             NaN NaN NaN NaN  ... NaN  0.025210 NaN NaN NaN NaN NaN NaN NaN   \n",
       "2             NaN NaN NaN NaN  ... NaN       NaN NaN NaN NaN NaN NaN NaN NaN   \n",
       "3             NaN NaN NaN NaN  ... NaN       NaN NaN NaN NaN NaN NaN NaN NaN   \n",
       "4             NaN NaN NaN NaN  ... NaN  0.344828 NaN NaN NaN NaN NaN NaN NaN   \n",
       "\n",
       "hotel_cluster  99  \n",
       "0             NaN  \n",
       "1             NaN  \n",
       "2             NaN  \n",
       "3             NaN  \n",
       "4             NaN  \n",
       "\n",
       "[5 rows x 103 columns]"
      ]
     },
     "execution_count": 15,
     "metadata": {},
     "output_type": "execute_result"
    }
   ],
   "source": [
    "train_pivot = train_summary.pivot_table(index=['srch_destination_id','hotel_country','hotel_market'], columns='hotel_cluster', values='sum_and_count').reset_index()\n",
    "train_pivot.head()"
   ]
  },
  {
   "cell_type": "markdown",
   "metadata": {},
   "source": [
    "Now let's do the merge."
   ]
  },
  {
   "cell_type": "code",
   "execution_count": 16,
   "metadata": {},
   "outputs": [
    {
     "data": {
      "text/plain": [
       "(20032, 272)"
      ]
     },
     "execution_count": 16,
     "metadata": {},
     "output_type": "execute_result"
    }
   ],
   "source": [
    "train_booked = pd.merge(train_booked, destinations, how='left', on='srch_destination_id')\n",
    "train_booked = pd.merge(train_booked, train_pivot, how='left', on=['srch_destination_id','hotel_country','hotel_market'])\n",
    "train_booked.fillna(0, inplace=True)\n",
    "train_booked.shape"
   ]
  },
  {
   "cell_type": "code",
   "execution_count": 17,
   "metadata": {},
   "outputs": [
    {
     "data": {
      "text/html": [
       "<div>\n",
       "<style scoped>\n",
       "    .dataframe tbody tr th:only-of-type {\n",
       "        vertical-align: middle;\n",
       "    }\n",
       "\n",
       "    .dataframe tbody tr th {\n",
       "        vertical-align: top;\n",
       "    }\n",
       "\n",
       "    .dataframe thead th {\n",
       "        text-align: right;\n",
       "    }\n",
       "</style>\n",
       "<table border=\"1\" class=\"dataframe\">\n",
       "  <thead>\n",
       "    <tr style=\"text-align: right;\">\n",
       "      <th></th>\n",
       "      <th>site_name</th>\n",
       "      <th>posa_continent</th>\n",
       "      <th>user_location_country</th>\n",
       "      <th>user_location_region</th>\n",
       "      <th>user_location_city</th>\n",
       "      <th>orig_destination_distance</th>\n",
       "      <th>user_id</th>\n",
       "      <th>is_mobile</th>\n",
       "      <th>is_package</th>\n",
       "      <th>channel</th>\n",
       "      <th>...</th>\n",
       "      <th>90</th>\n",
       "      <th>91</th>\n",
       "      <th>92</th>\n",
       "      <th>93</th>\n",
       "      <th>94</th>\n",
       "      <th>95</th>\n",
       "      <th>96</th>\n",
       "      <th>97</th>\n",
       "      <th>98</th>\n",
       "      <th>99</th>\n",
       "    </tr>\n",
       "  </thead>\n",
       "  <tbody>\n",
       "    <tr>\n",
       "      <th>0</th>\n",
       "      <td>2</td>\n",
       "      <td>3</td>\n",
       "      <td>66</td>\n",
       "      <td>332</td>\n",
       "      <td>55121</td>\n",
       "      <td>2234.4394</td>\n",
       "      <td>160733</td>\n",
       "      <td>0</td>\n",
       "      <td>1</td>\n",
       "      <td>9</td>\n",
       "      <td>...</td>\n",
       "      <td>0.010283</td>\n",
       "      <td>0.000000</td>\n",
       "      <td>0.002571</td>\n",
       "      <td>0.0</td>\n",
       "      <td>0.0</td>\n",
       "      <td>0.000000</td>\n",
       "      <td>0.000000</td>\n",
       "      <td>0.000000</td>\n",
       "      <td>0.0</td>\n",
       "      <td>0.005141</td>\n",
       "    </tr>\n",
       "    <tr>\n",
       "      <th>1</th>\n",
       "      <td>34</td>\n",
       "      <td>3</td>\n",
       "      <td>205</td>\n",
       "      <td>135</td>\n",
       "      <td>27655</td>\n",
       "      <td>234.6637</td>\n",
       "      <td>1194667</td>\n",
       "      <td>0</td>\n",
       "      <td>0</td>\n",
       "      <td>5</td>\n",
       "      <td>...</td>\n",
       "      <td>0.000000</td>\n",
       "      <td>0.000000</td>\n",
       "      <td>0.000000</td>\n",
       "      <td>0.0</td>\n",
       "      <td>0.0</td>\n",
       "      <td>0.000000</td>\n",
       "      <td>0.000000</td>\n",
       "      <td>0.000000</td>\n",
       "      <td>0.0</td>\n",
       "      <td>0.000000</td>\n",
       "    </tr>\n",
       "    <tr>\n",
       "      <th>2</th>\n",
       "      <td>13</td>\n",
       "      <td>1</td>\n",
       "      <td>46</td>\n",
       "      <td>157</td>\n",
       "      <td>34868</td>\n",
       "      <td>612.4875</td>\n",
       "      <td>1160376</td>\n",
       "      <td>0</td>\n",
       "      <td>0</td>\n",
       "      <td>9</td>\n",
       "      <td>...</td>\n",
       "      <td>0.010125</td>\n",
       "      <td>0.000000</td>\n",
       "      <td>0.000000</td>\n",
       "      <td>0.0</td>\n",
       "      <td>0.0</td>\n",
       "      <td>0.000000</td>\n",
       "      <td>0.000000</td>\n",
       "      <td>0.028447</td>\n",
       "      <td>0.0</td>\n",
       "      <td>0.026037</td>\n",
       "    </tr>\n",
       "    <tr>\n",
       "      <th>3</th>\n",
       "      <td>2</td>\n",
       "      <td>3</td>\n",
       "      <td>66</td>\n",
       "      <td>337</td>\n",
       "      <td>6988</td>\n",
       "      <td>943.0843</td>\n",
       "      <td>1134956</td>\n",
       "      <td>0</td>\n",
       "      <td>0</td>\n",
       "      <td>2</td>\n",
       "      <td>...</td>\n",
       "      <td>0.011082</td>\n",
       "      <td>0.043272</td>\n",
       "      <td>0.001583</td>\n",
       "      <td>0.0</td>\n",
       "      <td>0.0</td>\n",
       "      <td>0.038522</td>\n",
       "      <td>0.021636</td>\n",
       "      <td>0.000000</td>\n",
       "      <td>0.0</td>\n",
       "      <td>0.001583</td>\n",
       "    </tr>\n",
       "    <tr>\n",
       "      <th>4</th>\n",
       "      <td>13</td>\n",
       "      <td>1</td>\n",
       "      <td>46</td>\n",
       "      <td>347</td>\n",
       "      <td>38786</td>\n",
       "      <td>611.3314</td>\n",
       "      <td>241627</td>\n",
       "      <td>0</td>\n",
       "      <td>0</td>\n",
       "      <td>9</td>\n",
       "      <td>...</td>\n",
       "      <td>0.000000</td>\n",
       "      <td>0.000000</td>\n",
       "      <td>0.000000</td>\n",
       "      <td>0.0</td>\n",
       "      <td>0.0</td>\n",
       "      <td>0.000000</td>\n",
       "      <td>0.000000</td>\n",
       "      <td>0.000000</td>\n",
       "      <td>0.0</td>\n",
       "      <td>0.000000</td>\n",
       "    </tr>\n",
       "  </tbody>\n",
       "</table>\n",
       "<p>5 rows × 272 columns</p>\n",
       "</div>"
      ],
      "text/plain": [
       "   site_name  posa_continent  user_location_country  user_location_region  \\\n",
       "0          2               3                     66                   332   \n",
       "1         34               3                    205                   135   \n",
       "2         13               1                     46                   157   \n",
       "3          2               3                     66                   337   \n",
       "4         13               1                     46                   347   \n",
       "\n",
       "   user_location_city  orig_destination_distance  user_id  is_mobile  \\\n",
       "0               55121                  2234.4394   160733          0   \n",
       "1               27655                   234.6637  1194667          0   \n",
       "2               34868                   612.4875  1160376          0   \n",
       "3                6988                   943.0843  1134956          0   \n",
       "4               38786                   611.3314   241627          0   \n",
       "\n",
       "   is_package  channel  ...        90        91        92   93   94        95  \\\n",
       "0           1        9  ...  0.010283  0.000000  0.002571  0.0  0.0  0.000000   \n",
       "1           0        5  ...  0.000000  0.000000  0.000000  0.0  0.0  0.000000   \n",
       "2           0        9  ...  0.010125  0.000000  0.000000  0.0  0.0  0.000000   \n",
       "3           0        2  ...  0.011082  0.043272  0.001583  0.0  0.0  0.038522   \n",
       "4           0        9  ...  0.000000  0.000000  0.000000  0.0  0.0  0.000000   \n",
       "\n",
       "         96        97   98        99  \n",
       "0  0.000000  0.000000  0.0  0.005141  \n",
       "1  0.000000  0.000000  0.0  0.000000  \n",
       "2  0.000000  0.028447  0.0  0.026037  \n",
       "3  0.021636  0.000000  0.0  0.001583  \n",
       "4  0.000000  0.000000  0.0  0.000000  \n",
       "\n",
       "[5 rows x 272 columns]"
      ]
     },
     "execution_count": 17,
     "metadata": {},
     "output_type": "execute_result"
    }
   ],
   "source": [
    "train_booked.head(5)"
   ]
  },
  {
   "cell_type": "markdown",
   "metadata": {},
   "source": [
    "# Algorithms"
   ]
  },
  {
   "cell_type": "markdown",
   "metadata": {},
   "source": [
    "We first need to define what we will use for features (variables) and for labels (predictor)."
   ]
  },
  {
   "cell_type": "code",
   "execution_count": 18,
   "metadata": {},
   "outputs": [
    {
     "data": {
      "text/plain": [
       "((20032, 269), (20032,))"
      ]
     },
     "execution_count": 18,
     "metadata": {},
     "output_type": "execute_result"
    }
   ],
   "source": [
    "x = train_booked.drop(['user_id', 'hotel_cluster', 'is_booking'], axis=1)\n",
    "y = train_booked.hotel_cluster\n",
    "x.shape, y.shape"
   ]
  },
  {
   "cell_type": "markdown",
   "metadata": {},
   "source": [
    "Things look good.  Let's pick our first algorithm."
   ]
  },
  {
   "cell_type": "markdown",
   "metadata": {},
   "source": [
    "## K-Nearest Neighbor (KNN)"
   ]
  },
  {
   "cell_type": "code",
   "execution_count": 19,
   "metadata": {},
   "outputs": [
    {
     "name": "stdout",
     "output_type": "stream",
     "text": [
      "The accuracy of our KNN algorithm is: 0.2557704528693686\n"
     ]
    }
   ],
   "source": [
    "import warnings\n",
    "warnings.simplefilter(\"ignore\")\n",
    "from sklearn.neighbors import KNeighborsClassifier\n",
    "from sklearn.pipeline import make_pipeline\n",
    "from sklearn import preprocessing\n",
    "from sklearn.model_selection import cross_val_score\n",
    "\n",
    "knn = make_pipeline(preprocessing.StandardScaler(), KNeighborsClassifier(n_neighbors=5))\n",
    "knn_accuracy = np.mean(cross_val_score(knn, x, y, cv=10, scoring='accuracy'))\n",
    "print(\"The accuracy of our KNN algorithm is:\", knn_accuracy)"
   ]
  },
  {
   "cell_type": "markdown",
   "metadata": {},
   "source": [
    "## Logistic Regression"
   ]
  },
  {
   "cell_type": "code",
   "execution_count": 20,
   "metadata": {},
   "outputs": [
    {
     "name": "stdout",
     "output_type": "stream",
     "text": [
      "The accuracy of our logistic regression algorithm is: 0.3042425172749558\n"
     ]
    }
   ],
   "source": [
    "from sklearn.linear_model import LogisticRegression\n",
    "\n",
    "lr = make_pipeline(preprocessing.StandardScaler(), LogisticRegression(multi_class='ovr'))\n",
    "lr_accuracy = np.mean(cross_val_score(lr, x, y, cv=10))\n",
    "print(\"The accuracy of our logistic regression algorithm is:\", lr_accuracy)"
   ]
  },
  {
   "cell_type": "markdown",
   "metadata": {},
   "source": [
    "## Random Forest Classifier"
   ]
  },
  {
   "cell_type": "code",
   "execution_count": 21,
   "metadata": {},
   "outputs": [
    {
     "name": "stdout",
     "output_type": "stream",
     "text": [
      "The accuracy of our random forest algorithm is: 0.2496716135408791\n"
     ]
    }
   ],
   "source": [
    "from sklearn.ensemble import RandomForestClassifier\n",
    "\n",
    "rf = make_pipeline(preprocessing.StandardScaler(), RandomForestClassifier(n_estimators=273,max_depth=10,random_state=0))\n",
    "rf_accuracy = np.mean(cross_val_score(rf, x, y, cv=10))\n",
    "print(\"The accuracy of our random forest algorithm is:\", rf_accuracy)"
   ]
  },
  {
   "cell_type": "markdown",
   "metadata": {},
   "source": [
    "## Naive Bayes Classifier"
   ]
  },
  {
   "cell_type": "code",
   "execution_count": 22,
   "metadata": {},
   "outputs": [
    {
     "name": "stdout",
     "output_type": "stream",
     "text": [
      "The accuracy of our naive bayes algorithm is: 0.10338216278342642\n"
     ]
    }
   ],
   "source": [
    "from sklearn.naive_bayes import GaussianNB\n",
    "\n",
    "nb = make_pipeline(preprocessing.StandardScaler(), GaussianNB(priors=None))\n",
    "nb_accuracy = np.mean(cross_val_score(nb, x, y, cv=10))\n",
    "print(\"The accuracy of our naive bayes algorithm is:\", nb_accuracy)"
   ]
  },
  {
   "cell_type": "markdown",
   "metadata": {},
   "source": [
    "## Algorithm Summary Table"
   ]
  },
  {
   "cell_type": "markdown",
   "metadata": {},
   "source": [
    "| Algorithm | Accuracy Score |  \n",
    "|-----------|----------------|  \n",
    "| KNN | 25.6 % |  \n",
    "| Logistic Regression | 30.4 % |  \n",
    "| Random Forest | 25.0 % |  \n",
    "| Naive Bayes | 10.3 % |  \n"
   ]
  },
  {
   "cell_type": "markdown",
   "metadata": {},
   "source": [
    "**The logistic regression model was the most accurate.  \n",
    "The KNN and Random Forest algorithms performed about the same.  \n",
    "The Naive Bayes algorithm was the least accurate.**"
   ]
  },
  {
   "cell_type": "code",
   "execution_count": null,
   "metadata": {},
   "outputs": [],
   "source": []
  }
 ],
 "metadata": {
  "hide_input": false,
  "kernelspec": {
   "display_name": "Python 3",
   "language": "python",
   "name": "python3"
  },
  "language_info": {
   "codemirror_mode": {
    "name": "ipython",
    "version": 3
   },
   "file_extension": ".py",
   "mimetype": "text/x-python",
   "name": "python",
   "nbconvert_exporter": "python",
   "pygments_lexer": "ipython3",
   "version": "3.7.3"
  },
  "varInspector": {
   "cols": {
    "lenName": 16,
    "lenType": 16,
    "lenVar": 40
   },
   "kernels_config": {
    "python": {
     "delete_cmd_postfix": "",
     "delete_cmd_prefix": "del ",
     "library": "var_list.py",
     "varRefreshCmd": "print(var_dic_list())"
    },
    "r": {
     "delete_cmd_postfix": ") ",
     "delete_cmd_prefix": "rm(",
     "library": "var_list.r",
     "varRefreshCmd": "cat(var_dic_list()) "
    }
   },
   "types_to_exclude": [
    "module",
    "function",
    "builtin_function_or_method",
    "instance",
    "_Feature"
   ],
   "window_display": false
  }
 },
 "nbformat": 4,
 "nbformat_minor": 2
}
